{
 "cells": [
  {
   "cell_type": "code",
   "execution_count": 1,
   "id": "fixed-wealth",
   "metadata": {},
   "outputs": [],
   "source": [
    "# importing the libraries\n",
    "import numpy as np\n",
    "import pandas as pd\n",
    "import matplotlib.pyplot as plt\n",
    "import seaborn as sns\n",
    "from sklearn.model_selection import train_test_split\n",
    "from sklearn.ensemble import RandomForestRegressor\n",
    "from sklearn import metrics\n"
   ]
  },
  {
   "cell_type": "code",
   "execution_count": 2,
   "id": "electronic-import",
   "metadata": {},
   "outputs": [],
   "source": [
    "# data collection and preocessing\n",
    "# loading dataset into dataframe\n",
    "gold_data = pd.read_csv('gold_price_data.csv')"
   ]
  },
  {
   "cell_type": "code",
   "execution_count": 3,
   "id": "metropolitan-malawi",
   "metadata": {},
   "outputs": [
    {
     "data": {
      "text/html": [
       "<div>\n",
       "<style scoped>\n",
       "    .dataframe tbody tr th:only-of-type {\n",
       "        vertical-align: middle;\n",
       "    }\n",
       "\n",
       "    .dataframe tbody tr th {\n",
       "        vertical-align: top;\n",
       "    }\n",
       "\n",
       "    .dataframe thead th {\n",
       "        text-align: right;\n",
       "    }\n",
       "</style>\n",
       "<table border=\"1\" class=\"dataframe\">\n",
       "  <thead>\n",
       "    <tr style=\"text-align: right;\">\n",
       "      <th></th>\n",
       "      <th>Date</th>\n",
       "      <th>SPX</th>\n",
       "      <th>GLD</th>\n",
       "      <th>USO</th>\n",
       "      <th>SLV</th>\n",
       "      <th>EUR/USD</th>\n",
       "    </tr>\n",
       "  </thead>\n",
       "  <tbody>\n",
       "    <tr>\n",
       "      <th>0</th>\n",
       "      <td>1/2/2008</td>\n",
       "      <td>1447.160034</td>\n",
       "      <td>84.860001</td>\n",
       "      <td>78.470001</td>\n",
       "      <td>15.180</td>\n",
       "      <td>1.471692</td>\n",
       "    </tr>\n",
       "    <tr>\n",
       "      <th>1</th>\n",
       "      <td>1/3/2008</td>\n",
       "      <td>1447.160034</td>\n",
       "      <td>85.570000</td>\n",
       "      <td>78.370003</td>\n",
       "      <td>15.285</td>\n",
       "      <td>1.474491</td>\n",
       "    </tr>\n",
       "    <tr>\n",
       "      <th>2</th>\n",
       "      <td>1/4/2008</td>\n",
       "      <td>1411.630005</td>\n",
       "      <td>85.129997</td>\n",
       "      <td>77.309998</td>\n",
       "      <td>15.167</td>\n",
       "      <td>1.475492</td>\n",
       "    </tr>\n",
       "    <tr>\n",
       "      <th>3</th>\n",
       "      <td>1/7/2008</td>\n",
       "      <td>1416.180054</td>\n",
       "      <td>84.769997</td>\n",
       "      <td>75.500000</td>\n",
       "      <td>15.053</td>\n",
       "      <td>1.468299</td>\n",
       "    </tr>\n",
       "    <tr>\n",
       "      <th>4</th>\n",
       "      <td>1/8/2008</td>\n",
       "      <td>1390.189941</td>\n",
       "      <td>86.779999</td>\n",
       "      <td>76.059998</td>\n",
       "      <td>15.590</td>\n",
       "      <td>1.557099</td>\n",
       "    </tr>\n",
       "  </tbody>\n",
       "</table>\n",
       "</div>"
      ],
      "text/plain": [
       "       Date          SPX        GLD        USO     SLV   EUR/USD\n",
       "0  1/2/2008  1447.160034  84.860001  78.470001  15.180  1.471692\n",
       "1  1/3/2008  1447.160034  85.570000  78.370003  15.285  1.474491\n",
       "2  1/4/2008  1411.630005  85.129997  77.309998  15.167  1.475492\n",
       "3  1/7/2008  1416.180054  84.769997  75.500000  15.053  1.468299\n",
       "4  1/8/2008  1390.189941  86.779999  76.059998  15.590  1.557099"
      ]
     },
     "execution_count": 3,
     "metadata": {},
     "output_type": "execute_result"
    }
   ],
   "source": [
    "# print first 5 rows in the dataframe\n",
    "gold_data.head()"
   ]
  },
  {
   "cell_type": "code",
   "execution_count": 5,
   "id": "short-shame",
   "metadata": {},
   "outputs": [
    {
     "data": {
      "text/html": [
       "<div>\n",
       "<style scoped>\n",
       "    .dataframe tbody tr th:only-of-type {\n",
       "        vertical-align: middle;\n",
       "    }\n",
       "\n",
       "    .dataframe tbody tr th {\n",
       "        vertical-align: top;\n",
       "    }\n",
       "\n",
       "    .dataframe thead th {\n",
       "        text-align: right;\n",
       "    }\n",
       "</style>\n",
       "<table border=\"1\" class=\"dataframe\">\n",
       "  <thead>\n",
       "    <tr style=\"text-align: right;\">\n",
       "      <th></th>\n",
       "      <th>Date</th>\n",
       "      <th>SPX</th>\n",
       "      <th>GLD</th>\n",
       "      <th>USO</th>\n",
       "      <th>SLV</th>\n",
       "      <th>EUR/USD</th>\n",
       "    </tr>\n",
       "  </thead>\n",
       "  <tbody>\n",
       "    <tr>\n",
       "      <th>2285</th>\n",
       "      <td>5/8/2018</td>\n",
       "      <td>2671.919922</td>\n",
       "      <td>124.589996</td>\n",
       "      <td>14.0600</td>\n",
       "      <td>15.5100</td>\n",
       "      <td>1.186789</td>\n",
       "    </tr>\n",
       "    <tr>\n",
       "      <th>2286</th>\n",
       "      <td>5/9/2018</td>\n",
       "      <td>2697.790039</td>\n",
       "      <td>124.330002</td>\n",
       "      <td>14.3700</td>\n",
       "      <td>15.5300</td>\n",
       "      <td>1.184722</td>\n",
       "    </tr>\n",
       "    <tr>\n",
       "      <th>2287</th>\n",
       "      <td>5/10/2018</td>\n",
       "      <td>2723.070068</td>\n",
       "      <td>125.180000</td>\n",
       "      <td>14.4100</td>\n",
       "      <td>15.7400</td>\n",
       "      <td>1.191753</td>\n",
       "    </tr>\n",
       "    <tr>\n",
       "      <th>2288</th>\n",
       "      <td>5/14/2018</td>\n",
       "      <td>2730.129883</td>\n",
       "      <td>124.489998</td>\n",
       "      <td>14.3800</td>\n",
       "      <td>15.5600</td>\n",
       "      <td>1.193118</td>\n",
       "    </tr>\n",
       "    <tr>\n",
       "      <th>2289</th>\n",
       "      <td>5/16/2018</td>\n",
       "      <td>2725.780029</td>\n",
       "      <td>122.543800</td>\n",
       "      <td>14.4058</td>\n",
       "      <td>15.4542</td>\n",
       "      <td>1.182033</td>\n",
       "    </tr>\n",
       "  </tbody>\n",
       "</table>\n",
       "</div>"
      ],
      "text/plain": [
       "           Date          SPX         GLD      USO      SLV   EUR/USD\n",
       "2285   5/8/2018  2671.919922  124.589996  14.0600  15.5100  1.186789\n",
       "2286   5/9/2018  2697.790039  124.330002  14.3700  15.5300  1.184722\n",
       "2287  5/10/2018  2723.070068  125.180000  14.4100  15.7400  1.191753\n",
       "2288  5/14/2018  2730.129883  124.489998  14.3800  15.5600  1.193118\n",
       "2289  5/16/2018  2725.780029  122.543800  14.4058  15.4542  1.182033"
      ]
     },
     "execution_count": 5,
     "metadata": {},
     "output_type": "execute_result"
    }
   ],
   "source": [
    "#print last 5 rows in the df\n",
    "gold_data.tail()"
   ]
  },
  {
   "cell_type": "code",
   "execution_count": 7,
   "id": "occupied-ethnic",
   "metadata": {},
   "outputs": [
    {
     "data": {
      "text/plain": [
       "(2290, 6)"
      ]
     },
     "execution_count": 7,
     "metadata": {},
     "output_type": "execute_result"
    }
   ],
   "source": [
    "# numbers of rows and column\n",
    "gold_data.shape"
   ]
  },
  {
   "cell_type": "code",
   "execution_count": 8,
   "id": "radio-improvement",
   "metadata": {},
   "outputs": [
    {
     "name": "stdout",
     "output_type": "stream",
     "text": [
      "<class 'pandas.core.frame.DataFrame'>\n",
      "RangeIndex: 2290 entries, 0 to 2289\n",
      "Data columns (total 6 columns):\n",
      " #   Column   Non-Null Count  Dtype  \n",
      "---  ------   --------------  -----  \n",
      " 0   Date     2290 non-null   object \n",
      " 1   SPX      2290 non-null   float64\n",
      " 2   GLD      2290 non-null   float64\n",
      " 3   USO      2290 non-null   float64\n",
      " 4   SLV      2290 non-null   float64\n",
      " 5   EUR/USD  2290 non-null   float64\n",
      "dtypes: float64(5), object(1)\n",
      "memory usage: 107.5+ KB\n"
     ]
    }
   ],
   "source": [
    "# getting basic infos about the data\n",
    "gold_data.info()"
   ]
  },
  {
   "cell_type": "code",
   "execution_count": 9,
   "id": "handled-netherlands",
   "metadata": {},
   "outputs": [
    {
     "data": {
      "text/plain": [
       "Date       0\n",
       "SPX        0\n",
       "GLD        0\n",
       "USO        0\n",
       "SLV        0\n",
       "EUR/USD    0\n",
       "dtype: int64"
      ]
     },
     "execution_count": 9,
     "metadata": {},
     "output_type": "execute_result"
    }
   ],
   "source": [
    "# checking the number of missing value\n",
    "gold_data.isnull().sum()"
   ]
  },
  {
   "cell_type": "code",
   "execution_count": 10,
   "id": "objective-snapshot",
   "metadata": {},
   "outputs": [
    {
     "data": {
      "text/html": [
       "<div>\n",
       "<style scoped>\n",
       "    .dataframe tbody tr th:only-of-type {\n",
       "        vertical-align: middle;\n",
       "    }\n",
       "\n",
       "    .dataframe tbody tr th {\n",
       "        vertical-align: top;\n",
       "    }\n",
       "\n",
       "    .dataframe thead th {\n",
       "        text-align: right;\n",
       "    }\n",
       "</style>\n",
       "<table border=\"1\" class=\"dataframe\">\n",
       "  <thead>\n",
       "    <tr style=\"text-align: right;\">\n",
       "      <th></th>\n",
       "      <th>SPX</th>\n",
       "      <th>GLD</th>\n",
       "      <th>USO</th>\n",
       "      <th>SLV</th>\n",
       "      <th>EUR/USD</th>\n",
       "    </tr>\n",
       "  </thead>\n",
       "  <tbody>\n",
       "    <tr>\n",
       "      <th>count</th>\n",
       "      <td>2290.000000</td>\n",
       "      <td>2290.000000</td>\n",
       "      <td>2290.000000</td>\n",
       "      <td>2290.000000</td>\n",
       "      <td>2290.000000</td>\n",
       "    </tr>\n",
       "    <tr>\n",
       "      <th>mean</th>\n",
       "      <td>1654.315776</td>\n",
       "      <td>122.732875</td>\n",
       "      <td>31.842221</td>\n",
       "      <td>20.084997</td>\n",
       "      <td>1.283653</td>\n",
       "    </tr>\n",
       "    <tr>\n",
       "      <th>std</th>\n",
       "      <td>519.111540</td>\n",
       "      <td>23.283346</td>\n",
       "      <td>19.523517</td>\n",
       "      <td>7.092566</td>\n",
       "      <td>0.131547</td>\n",
       "    </tr>\n",
       "    <tr>\n",
       "      <th>min</th>\n",
       "      <td>676.530029</td>\n",
       "      <td>70.000000</td>\n",
       "      <td>7.960000</td>\n",
       "      <td>8.850000</td>\n",
       "      <td>1.039047</td>\n",
       "    </tr>\n",
       "    <tr>\n",
       "      <th>25%</th>\n",
       "      <td>1239.874969</td>\n",
       "      <td>109.725000</td>\n",
       "      <td>14.380000</td>\n",
       "      <td>15.570000</td>\n",
       "      <td>1.171313</td>\n",
       "    </tr>\n",
       "    <tr>\n",
       "      <th>50%</th>\n",
       "      <td>1551.434998</td>\n",
       "      <td>120.580002</td>\n",
       "      <td>33.869999</td>\n",
       "      <td>17.268500</td>\n",
       "      <td>1.303296</td>\n",
       "    </tr>\n",
       "    <tr>\n",
       "      <th>75%</th>\n",
       "      <td>2073.010070</td>\n",
       "      <td>132.840004</td>\n",
       "      <td>37.827501</td>\n",
       "      <td>22.882499</td>\n",
       "      <td>1.369971</td>\n",
       "    </tr>\n",
       "    <tr>\n",
       "      <th>max</th>\n",
       "      <td>2872.870117</td>\n",
       "      <td>184.589996</td>\n",
       "      <td>117.480003</td>\n",
       "      <td>47.259998</td>\n",
       "      <td>1.598798</td>\n",
       "    </tr>\n",
       "  </tbody>\n",
       "</table>\n",
       "</div>"
      ],
      "text/plain": [
       "               SPX          GLD          USO          SLV      EUR/USD\n",
       "count  2290.000000  2290.000000  2290.000000  2290.000000  2290.000000\n",
       "mean   1654.315776   122.732875    31.842221    20.084997     1.283653\n",
       "std     519.111540    23.283346    19.523517     7.092566     0.131547\n",
       "min     676.530029    70.000000     7.960000     8.850000     1.039047\n",
       "25%    1239.874969   109.725000    14.380000    15.570000     1.171313\n",
       "50%    1551.434998   120.580002    33.869999    17.268500     1.303296\n",
       "75%    2073.010070   132.840004    37.827501    22.882499     1.369971\n",
       "max    2872.870117   184.589996   117.480003    47.259998     1.598798"
      ]
     },
     "execution_count": 10,
     "metadata": {},
     "output_type": "execute_result"
    }
   ],
   "source": [
    "# getting the statistical measures of the data\n",
    "gold_data.describe()"
   ]
  },
  {
   "cell_type": "code",
   "execution_count": 11,
   "id": "speaking-license",
   "metadata": {},
   "outputs": [],
   "source": [
    "#Correlation\n",
    "#1. Positive correlation\n",
    "#2. Negative correlation\n"
   ]
  },
  {
   "cell_type": "code",
   "execution_count": 14,
   "id": "european-asian",
   "metadata": {},
   "outputs": [],
   "source": [
    "correlation = gold_data.corr()"
   ]
  },
  {
   "cell_type": "code",
   "execution_count": 15,
   "id": "loving-sympathy",
   "metadata": {},
   "outputs": [
    {
     "data": {
      "text/plain": [
       "<AxesSubplot:>"
      ]
     },
     "execution_count": 15,
     "metadata": {},
     "output_type": "execute_result"
    },
    {
     "data": {
      "image/png": "[encoded data removed]",
      "text/plain": [
       "<Figure size 576x576 with 2 Axes>"
      ]
     },
     "metadata": {
      "needs_background": "light"
     },
     "output_type": "display_data"
    }
   ],
   "source": [
    "# construct a heatmap to understand the correlation\n",
    "plt.figure(figsize = (8,8))\n",
    "sns.heatmap(correlation, cbar=True, square=True, fmt='.1f', annot = True, annot_kws={'size':8}, cmap='Blues')"
   ]
  },
  {
   "cell_type": "code",
   "execution_count": 16,
   "id": "peripheral-sample",
   "metadata": {},
   "outputs": [
    {
     "name": "stdout",
     "output_type": "stream",
     "text": [
      "SPX        0.049345\n",
      "GLD        1.000000\n",
      "USO       -0.186360\n",
      "SLV        0.866632\n",
      "EUR/USD   -0.024375\n",
      "Name: GLD, dtype: float64\n"
     ]
    }
   ],
   "source": [
    "# correlation values of gold\n",
    "print(correlation['GLD'])"
   ]
  },
  {
   "cell_type": "code",
   "execution_count": 17,
   "id": "found-bahrain",
   "metadata": {},
   "outputs": [
    {
     "name": "stderr",
     "output_type": "stream",
     "text": [
      "C:\\Users\\Negura\\Anaconda3\\envs\\ProInforo\\lib\\site-packages\\seaborn\\distributions.py:2557: FutureWarning: `distplot` is a deprecated function and will be removed in a future version. Please adapt your code to use either `displot` (a figure-level function with similar flexibility) or `histplot` (an axes-level function for histograms).\n",
      "  warnings.warn(msg, FutureWarning)\n"
     ]
    },
    {
     "data": {
      "text/plain": [
       "<AxesSubplot:xlabel='GLD', ylabel='Density'>"
      ]
     },
     "execution_count": 17,
     "metadata": {},
     "output_type": "execute_result"
    },
    {
     "data": {
      "image/png": "[encoded data removed]",
      "text/plain": [
       "<Figure size 432x288 with 1 Axes>"
      ]
     },
     "metadata": {
      "needs_background": "light"
     },
     "output_type": "display_data"
    }
   ],
   "source": [
    "# checking the distribution of the Gold price\n",
    "sns.distplot(gold_data['GLD'], color='green')"
   ]
  },
  {
   "cell_type": "code",
   "execution_count": 19,
   "id": "armed-toyota",
   "metadata": {},
   "outputs": [],
   "source": [
    "#split the features and the target\n",
    "X = gold_data.drop(['Date', 'GLD'], axis=1)\n",
    "Y = gold_data['GLD']"
   ]
  },
  {
   "cell_type": "code",
   "execution_count": 20,
   "id": "hearing-absence",
   "metadata": {},
   "outputs": [
    {
     "name": "stdout",
     "output_type": "stream",
     "text": [
      "              SPX        USO      SLV   EUR/USD\n",
      "0     1447.160034  78.470001  15.1800  1.471692\n",
      "1     1447.160034  78.370003  15.2850  1.474491\n",
      "2     1411.630005  77.309998  15.1670  1.475492\n",
      "3     1416.180054  75.500000  15.0530  1.468299\n",
      "4     1390.189941  76.059998  15.5900  1.557099\n",
      "...           ...        ...      ...       ...\n",
      "2285  2671.919922  14.060000  15.5100  1.186789\n",
      "2286  2697.790039  14.370000  15.5300  1.184722\n",
      "2287  2723.070068  14.410000  15.7400  1.191753\n",
      "2288  2730.129883  14.380000  15.5600  1.193118\n",
      "2289  2725.780029  14.405800  15.4542  1.182033\n",
      "\n",
      "[2290 rows x 4 columns]\n"
     ]
    }
   ],
   "source": [
    "print(X)"
   ]
  },
  {
   "cell_type": "code",
   "execution_count": 21,
   "id": "pharmaceutical-finder",
   "metadata": {},
   "outputs": [
    {
     "name": "stdout",
     "output_type": "stream",
     "text": [
      "0        84.860001\n",
      "1        85.570000\n",
      "2        85.129997\n",
      "3        84.769997\n",
      "4        86.779999\n",
      "           ...    \n",
      "2285    124.589996\n",
      "2286    124.330002\n",
      "2287    125.180000\n",
      "2288    124.489998\n",
      "2289    122.543800\n",
      "Name: GLD, Length: 2290, dtype: float64\n"
     ]
    }
   ],
   "source": [
    "print(Y)"
   ]
  },
  {
   "cell_type": "code",
   "execution_count": 22,
   "id": "coordinated-minimum",
   "metadata": {},
   "outputs": [],
   "source": [
    "#splitting into training data and test data\n",
    "X_train, X_test, Y_train, Y_test = train_test_split(X, Y, test_size = 0.2, random_state=2)"
   ]
  },
  {
   "cell_type": "code",
   "execution_count": 23,
   "id": "economic-intensity",
   "metadata": {},
   "outputs": [],
   "source": [
    "#model training - random forest regressor\n",
    "regressor = RandomForestRegressor(n_estimators = 100)"
   ]
  },
  {
   "cell_type": "code",
   "execution_count": 24,
   "id": "desirable-miami",
   "metadata": {},
   "outputs": [
    {
     "data": {
      "text/plain": [
       "RandomForestRegressor()"
      ]
     },
     "execution_count": 24,
     "metadata": {},
     "output_type": "execute_result"
    }
   ],
   "source": [
    "#training the model\n",
    "regressor.fit(X_train, Y_train)"
   ]
  },
  {
   "cell_type": "code",
   "execution_count": 25,
   "id": "least-corpus",
   "metadata": {},
   "outputs": [],
   "source": [
    "#model evaluation\n",
    "#prediction on the test data\n",
    "test_data_prediction = regressor.predict(X_test)"
   ]
  },
  {
   "cell_type": "code",
   "execution_count": 26,
   "id": "another-projector",
   "metadata": {},
   "outputs": [
    {
     "name": "stdout",
     "output_type": "stream",
     "text": [
      "[168.65379948  81.72329985 116.11780022 127.64450085 120.65230117\n",
      " 154.83329788 149.99479914 126.17210062 117.47839902 125.97080093\n",
      " 116.90330104 172.46950107 141.91739872 167.64589914 115.37439969\n",
      " 117.7496003  140.69630279 170.232701   159.72690313 157.94599966\n",
      " 154.94600015 125.11719979 175.94759942 157.18710436 125.17900028\n",
      "  93.85069976  77.31610024 120.45600015 119.09019954 167.55469927\n",
      "  88.15490044 125.36079992  91.12720081 117.77640049 121.06229908\n",
      " 136.778001   115.38130112 115.12530062 148.40999998 107.415401\n",
      " 104.85650216  87.28589808 126.44410079 117.85940031 152.43479921\n",
      " 119.55560002 108.5317997  108.07829842  93.14410071 127.16389758\n",
      "  74.94250041 113.67189928 121.38460009 111.32729913 118.91299904\n",
      " 120.77239925 159.3600994  168.26040112 146.79209654  85.95709857\n",
      "  94.33920042  86.75649898  90.55990026 119.0801004  126.44210072\n",
      " 127.76999991 169.79699981 122.27039981 117.48469886  98.34170032\n",
      " 168.46320132 143.03729805 131.90980173 121.19690197 120.60059946\n",
      " 119.81720056 114.23650139 118.50250071 107.17590086 127.97660064\n",
      " 113.95169959 107.46269992 116.75580058 119.58189903  88.67800047\n",
      "  88.33419896 146.58810213 127.07440033 113.04910053 110.0854987\n",
      " 108.24779882  77.31299896 169.21440196 114.02299908 121.58109924\n",
      " 127.88230136 154.92549854  91.71829923 136.43030181 159.02440317\n",
      " 125.77520088 125.28390081 130.60910258 114.68970101 119.89320022\n",
      "  92.07219972 110.19179914 168.2613998  155.98759918 114.10239929\n",
      " 106.54690145  80.14209951 113.11360071 125.92330076 106.78860008\n",
      " 119.5569014  156.00150387 160.15509898 120.51170001 135.30350289\n",
      " 101.43090016 117.46599803 119.22490026 112.91820092 102.79599908\n",
      " 160.24519848  98.78530053 148.74169905 125.71540127 169.81919897\n",
      " 125.89119833 127.46789706 127.32970137 113.68599935 112.7760005\n",
      " 123.58169884 102.23879901  89.24529983 124.5369994  101.32949918\n",
      " 107.004699   113.75150007 117.21490076  98.84259953 121.9044005\n",
      " 163.64949911  87.30159859 106.61049934 117.23500042 127.75100143\n",
      " 124.0271005   80.6358995  120.06520066 158.4262987   88.27049971\n",
      " 110.2962997  119.06299936 172.78439907 103.0068991  105.66640081\n",
      " 122.57470011 159.14969817  87.48939828  93.03880031 112.40520038\n",
      " 177.23939946 114.17739976 119.33290016  94.66520121 125.82049999\n",
      " 166.17950101 114.63170046 116.73240114  88.43649897 148.51740016\n",
      " 120.37159916  89.46759983 111.80929994 117.04630041 118.79720108\n",
      "  88.18279975  94.09190034 117.16990005 118.45900198 120.41980096\n",
      " 126.90839794 122.09769976 150.15000029 165.64100114 118.57609964\n",
      " 120.34700151 150.9630008  118.51879903 173.15119881 105.37369928\n",
      " 105.01300059 148.92110059 113.49630029 124.73080123 147.62339919\n",
      " 119.69770133 115.02029997 112.05089993 113.42690202 141.96390084\n",
      " 117.91519777 102.90570024 115.86930126 103.68420171  98.62690055\n",
      " 117.1896008   90.53590045  91.66020031 153.62919853 102.67359977\n",
      " 154.79510109 114.37570172 138.47140151  90.22439827 115.56779931\n",
      " 114.50460014 122.79290062 122.04350007 165.2322012   92.94729957\n",
      " 135.02090104 121.32989936 121.01559998 104.67180014 140.88760302\n",
      " 121.54109933 116.67420042 113.41840056 127.14019744 122.73829936\n",
      " 125.81449969 121.2163004   86.91129905 132.19530195 143.35750228\n",
      "  92.68729949 160.03169948 158.870503   126.35109948 164.80859926\n",
      " 108.8274995  109.71790088 103.61859838  94.21170094 128.15140328\n",
      " 107.17630091 162.34369959 121.91440043 131.98519971 130.69660197\n",
      " 159.74929926  90.1567983  175.40910164 127.86040008 126.96019812\n",
      "  86.34359951 124.52439966 150.20709725  89.64320025 106.64809932\n",
      " 109.14280005  84.29669918 136.29800026 154.72050278 138.66930343\n",
      "  74.24570048 152.68790103 126.11180012 126.75520019 127.4825994\n",
      " 108.70749967 155.88870061 114.44040111 117.0259012  125.31929917\n",
      " 154.22230175 121.43510002 156.38319861  92.9102003  125.53820144\n",
      " 125.834       87.7038002   92.26449922 126.10459966 128.13570325\n",
      " 113.29380056 117.80109776 121.03380005 127.1351981  119.66880064\n",
      " 135.79549988  94.00679947 119.65490036 113.28660094  94.33349945\n",
      " 109.03129999  87.49589923 108.80299978  89.76279956  92.44520037\n",
      " 131.72170333 162.34359995  89.42820051 119.73410054 133.16950166\n",
      " 123.90719998 128.46510216 101.95429854  89.03979876 131.75570117\n",
      " 119.61190001 108.71029978 168.48190049 115.08310029  86.64999896\n",
      " 118.86410072  91.05449971 161.82540072 116.37600027 121.52630002\n",
      " 160.17829843 120.12529932 112.79019924 108.49449842 126.67869996\n",
      "  76.30910008 103.05739984 127.92260318 121.73379951  92.65660027\n",
      " 131.78630072 118.17330129 115.89439979 154.64960261 160.36250058\n",
      " 109.94809984 155.03529759 119.2907009  160.84680167 118.42700055\n",
      " 157.34209921 115.00059958 116.47430032 148.927999   114.82730072\n",
      " 126.02429899 166.04859928 117.73810008 125.0032995  153.21450332\n",
      " 153.27090285 132.1325005  114.96650062 121.25140231 125.29650051\n",
      "  89.79030054 123.1617999  154.78360227 111.80520051 106.54879968\n",
      " 162.11540135 118.55019928 165.69249999 133.93740097 114.81899956\n",
      " 153.16799923 168.56890014 115.39709998 113.91670129 158.33559848\n",
      "  85.26359881 127.07770093 128.08320061 128.9750997  124.57560074\n",
      " 123.90140058  90.62120074 153.4342999   97.11249959 136.90470002\n",
      "  88.95999894 107.40709994 114.78220013 112.64430085 124.21449914\n",
      "  91.28699878 125.44420135 162.20019833 119.88529903 165.13030108\n",
      " 126.95139782 112.20490052 127.56719932  94.83139887  91.12819979\n",
      " 103.17359897 120.82320003  83.0254994  126.23060033 160.70800457\n",
      " 117.17600103 118.34729991 120.10099984 122.75649958 120.09400153\n",
      " 121.50519991 118.29000083 107.05270011 148.04249946 126.33899845\n",
      " 115.55270082  73.87669997 127.75470088 153.00760016 122.60680023\n",
      " 125.64240088  88.93339984 103.27829872 124.93810037 120.24850038\n",
      "  73.36460089 151.87960053 121.23440036 104.88670014  86.60479763\n",
      " 115.13299905 172.18549801 119.47410044 159.72289782 113.14149971\n",
      " 121.26059978 118.54580143  96.02119992 118.86550004 125.96490027\n",
      " 118.35459974  95.86760062 154.29120153 122.18270025 147.16349988\n",
      " 159.45690223 113.85680011 122.60409938 149.57829851 127.11020035\n",
      " 166.14630021 134.81380019 120.18439987 167.30609827 108.44629901\n",
      " 121.68489876 138.94220123 106.44209906]\n"
     ]
    }
   ],
   "source": [
    "print(test_data_prediction)"
   ]
  },
  {
   "cell_type": "code",
   "execution_count": 27,
   "id": "noted-guidance",
   "metadata": {},
   "outputs": [
    {
     "name": "stdout",
     "output_type": "stream",
     "text": [
      "R squared error:  0.9884891488846725\n"
     ]
    }
   ],
   "source": [
    "#R squared error\n",
    "error_score = metrics.r2_score(Y_test, test_data_prediction)\n",
    "print(\"R squared error: \", error_score)"
   ]
  },
  {
   "cell_type": "code",
   "execution_count": 28,
   "id": "bizarre-assurance",
   "metadata": {},
   "outputs": [],
   "source": [
    "#plot the actual values and the predicted values\n",
    "Y_test = list(Y_test)"
   ]
  },
  {
   "cell_type": "code",
   "execution_count": 31,
   "id": "cloudy-contamination",
   "metadata": {},
   "outputs": [
    {
     "data": {
      "image/png": "[encoded data removed]",
      "text/plain": [
       "<Figure size 432x288 with 1 Axes>"
      ]
     },
     "metadata": {
      "needs_background": "light"
     },
     "output_type": "display_data"
    }
   ],
   "source": [
    "plt.plot(Y_test, color = 'blue', label = 'actual value')\n",
    "plt.plot(test_data_prediction, color = 'green', label = 'predicted value')\n",
    "plt.title('Actual price vs pridcted price')\n",
    "plt.xlabel('Number of values')\n",
    "plt.ylabel('GOLD price')\n",
    "plt.legend()\n",
    "plt.show()"
   ]
  },
  {
   "cell_type": "code",
   "execution_count": null,
   "id": "loving-toolbox",
   "metadata": {},
   "outputs": [],
   "source": []
  }
 ],
 "metadata": {
  "kernelspec": {
   "display_name": "Python 3",
   "language": "python",
   "name": "python3"
  },
  "language_info": {
   "codemirror_mode": {
    "name": "ipython",
    "version": 3
   },
   "file_extension": ".py",
   "mimetype": "text/x-python",
   "name": "python",
   "nbconvert_exporter": "python",
   "pygments_lexer": "ipython3",
   "version": "3.7.9"
  }
 },
 "nbformat": 4,
 "nbformat_minor": 5
}
